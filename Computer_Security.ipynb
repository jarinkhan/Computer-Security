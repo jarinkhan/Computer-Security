{
  "cells": [
    {
      "cell_type": "markdown",
      "metadata": {
        "id": "view-in-github",
        "colab_type": "text"
      },
      "source": [
        "<a href=\"https://colab.research.google.com/github/jarinkhan/Computer-Security/blob/main/Computer_Security.ipynb\" target=\"_parent\"><img src=\"https://colab.research.google.com/assets/colab-badge.svg\" alt=\"Open In Colab\"/></a>"
      ]
    },
    {
      "cell_type": "markdown",
      "source": [
        "# Encryption Side (Sender)"
      ],
      "metadata": {
        "id": "E9kFolI4QcWK"
      }
    },
    {
      "cell_type": "markdown",
      "metadata": {
        "id": "ehv3OCyiKrBN"
      },
      "source": [
        "**Confidentiality**"
      ]
    },
    {
      "cell_type": "code",
      "execution_count": null,
      "metadata": {
        "colab": {
          "base_uri": "https://localhost:8080/"
        },
        "id": "w3cEnV4nRgUp",
        "outputId": "e9c549e0-3751-46a7-afe0-071cb8b51fed"
      },
      "outputs": [
        {
          "output_type": "stream",
          "name": "stdout",
          "text": [
            "Requirement already satisfied: cryptography in /usr/local/lib/python3.10/dist-packages (41.0.4)\n",
            "Requirement already satisfied: cffi>=1.12 in /usr/local/lib/python3.10/dist-packages (from cryptography) (1.16.0)\n",
            "Requirement already satisfied: pycparser in /usr/local/lib/python3.10/dist-packages (from cffi>=1.12->cryptography) (2.21)\n"
          ]
        }
      ],
      "source": [
        "pip install cryptography"
      ]
    },
    {
      "cell_type": "code",
      "execution_count": null,
      "metadata": {
        "colab": {
          "base_uri": "https://localhost:8080/"
        },
        "id": "GK6oBc4rLYq9",
        "outputId": "bfe4c704-bb2b-4869-c180-937298a5fe71"
      },
      "outputs": [
        {
          "output_type": "stream",
          "name": "stdout",
          "text": [
            "Collecting pycryptodome\n",
            "  Downloading pycryptodome-3.19.0-cp35-abi3-manylinux_2_17_x86_64.manylinux2014_x86_64.whl (2.1 MB)\n",
            "\u001b[2K     \u001b[90m━━━━━━━━━━━━━━━━━━━━━━━━━━━━━━━━━━━━━━━━\u001b[0m \u001b[32m2.1/2.1 MB\u001b[0m \u001b[31m8.1 MB/s\u001b[0m eta \u001b[36m0:00:00\u001b[0m\n",
            "\u001b[?25hInstalling collected packages: pycryptodome\n",
            "Successfully installed pycryptodome-3.19.0\n"
          ]
        }
      ],
      "source": [
        "pip install pycryptodome"
      ]
    },
    {
      "cell_type": "code",
      "execution_count": null,
      "metadata": {
        "id": "fRU5XhUKJUkS",
        "colab": {
          "base_uri": "https://localhost:8080/",
          "height": 366
        },
        "outputId": "ea257323-9984-4046-af77-1e4836a7f10b"
      },
      "outputs": [
        {
          "output_type": "error",
          "ename": "FileNotFoundError",
          "evalue": "ignored",
          "traceback": [
            "\u001b[0;31m---------------------------------------------------------------------------\u001b[0m",
            "\u001b[0;31mFileNotFoundError\u001b[0m                         Traceback (most recent call last)",
            "\u001b[0;32m<ipython-input-3-a3ca7a388d67>\u001b[0m in \u001b[0;36m<cell line: 25>\u001b[0;34m()\u001b[0m\n\u001b[1;32m     23\u001b[0m     \u001b[0;32mreturn\u001b[0m \u001b[0mencrypted_file_path\u001b[0m\u001b[0;34m\u001b[0m\u001b[0;34m\u001b[0m\u001b[0m\n\u001b[1;32m     24\u001b[0m \u001b[0;34m\u001b[0m\u001b[0m\n\u001b[0;32m---> 25\u001b[0;31m \u001b[0mencrypted_path\u001b[0m \u001b[0;34m=\u001b[0m \u001b[0mencrypt_file\u001b[0m\u001b[0;34m(\u001b[0m\u001b[0mfile_path\u001b[0m\u001b[0;34m,\u001b[0m \u001b[0mkey\u001b[0m\u001b[0;34m)\u001b[0m\u001b[0;34m\u001b[0m\u001b[0;34m\u001b[0m\u001b[0m\n\u001b[0m\u001b[1;32m     26\u001b[0m \u001b[0mprint\u001b[0m\u001b[0;34m(\u001b[0m\u001b[0;34m'File encrypted and saved:'\u001b[0m\u001b[0;34m,\u001b[0m \u001b[0mencrypted_path\u001b[0m\u001b[0;34m)\u001b[0m\u001b[0;34m\u001b[0m\u001b[0;34m\u001b[0m\u001b[0m\n\u001b[1;32m     27\u001b[0m \u001b[0;34m\u001b[0m\u001b[0m\n",
            "\u001b[0;32m<ipython-input-3-a3ca7a388d67>\u001b[0m in \u001b[0;36mencrypt_file\u001b[0;34m(file_path, key)\u001b[0m\n\u001b[1;32m     11\u001b[0m \u001b[0;34m\u001b[0m\u001b[0m\n\u001b[1;32m     12\u001b[0m \u001b[0;32mdef\u001b[0m \u001b[0mencrypt_file\u001b[0m\u001b[0;34m(\u001b[0m\u001b[0mfile_path\u001b[0m\u001b[0;34m,\u001b[0m \u001b[0mkey\u001b[0m\u001b[0;34m)\u001b[0m\u001b[0;34m:\u001b[0m\u001b[0;34m\u001b[0m\u001b[0;34m\u001b[0m\u001b[0m\n\u001b[0;32m---> 13\u001b[0;31m     \u001b[0;32mwith\u001b[0m \u001b[0mopen\u001b[0m\u001b[0;34m(\u001b[0m\u001b[0mfile_path\u001b[0m\u001b[0;34m,\u001b[0m \u001b[0;34m'rb'\u001b[0m\u001b[0;34m)\u001b[0m \u001b[0;32mas\u001b[0m \u001b[0mfile\u001b[0m\u001b[0;34m:\u001b[0m\u001b[0;34m\u001b[0m\u001b[0;34m\u001b[0m\u001b[0m\n\u001b[0m\u001b[1;32m     14\u001b[0m         \u001b[0mfile_data\u001b[0m \u001b[0;34m=\u001b[0m \u001b[0mfile\u001b[0m\u001b[0;34m.\u001b[0m\u001b[0mread\u001b[0m\u001b[0;34m(\u001b[0m\u001b[0;34m)\u001b[0m\u001b[0;34m\u001b[0m\u001b[0;34m\u001b[0m\u001b[0m\n\u001b[1;32m     15\u001b[0m \u001b[0;34m\u001b[0m\u001b[0m\n",
            "\u001b[0;31mFileNotFoundError\u001b[0m: [Errno 2] No such file or directory: '/content/secret.txt'"
          ]
        }
      ],
      "source": [
        "import base64\n",
        "from Crypto.Cipher import AES\n",
        "from Crypto.Util.Padding import pad, unpad\n",
        "\n",
        "file_path = '/content/secret.txt'\n",
        "\n",
        "\n",
        "# A file is to be created named \"Secret.txt\" which will contain the secret text.\n",
        "\n",
        "key = '01 04 02 03 01 03 04 0A 09 0B 07 0F 0F 06 03 00'\n",
        "\n",
        "def encrypt_file(file_path, key):\n",
        "    with open(file_path, 'rb') as file:\n",
        "        file_data = file.read()\n",
        "\n",
        "    cipher = AES.new(key.encode('utf-8'), AES.MODE_ECB)\n",
        "    encrypted_data = cipher.encrypt(pad(file_data, 16))\n",
        "\n",
        "    encrypted_file_path = '/content/message.aes'\n",
        "    with open(encrypted_file_path, 'wb') as encrypted_file:\n",
        "        encrypted_file.write(encrypted_data)\n",
        "\n",
        "    return encrypted_file_path\n",
        "\n",
        "encrypted_path = encrypt_file(file_path, key)\n",
        "print('File encrypted and saved:', encrypted_path)\n",
        "\n"
      ]
    },
    {
      "cell_type": "markdown",
      "metadata": {
        "id": "_9nn47QgMVEF"
      },
      "source": [
        "**Ensuring Integrity and Authenticity**"
      ]
    },
    {
      "cell_type": "code",
      "execution_count": null,
      "metadata": {
        "id": "Q0tCXjeQi3PM"
      },
      "outputs": [],
      "source": [
        "import hmac\n",
        "import hashlib\n",
        "\n",
        "def generate_mac(message, key, hash_algorithm):\n",
        "    hash_obj = hashlib.new(hash_algorithm)\n",
        "    hash_obj.update(key.encode('utf-8'))\n",
        "    hmac_obj = hmac.new(hash_obj.digest(), message, hashlib.sha256)\n",
        "    mac_value = hmac_obj.hexdigest()\n",
        "    return mac_value\n",
        "\n",
        "def write_mac_to_file(mac_value):\n",
        "    with open(\"mac_value.txt\", \"w\") as file:\n",
        "        file.write(mac_value)\n",
        "\n",
        "def verify_mac(message, key, mac_value, hash_algorithm):\n",
        "    generated_mac = generate_mac(message, key, hash_algorithm)\n",
        "    return hmac.compare_digest(mac_value, generated_mac)\n",
        "\n",
        "def main():\n",
        "        message_file_path = \"/content/secret.txt\"\n",
        "        key = \"01096e39dcd90b44\"\n",
        "\n",
        "        print(\"Available hash algorithms:\")\n",
        "        print(\"1. SHA1\")\n",
        "        print(\"2. SHA256\")\n",
        "        hash_choice = input(\"Choose the hash algorithm (1 / 2): \")\n",
        "\n",
        "        if hash_choice == '1':\n",
        "            hash_algorithm = 'sha1'\n",
        "        elif hash_choice == '2':\n",
        "            hash_algorithm = 'sha256'\n",
        "        else:\n",
        "            raise ValueError(\"Invalid hash algorithm choice.\")\n",
        "\n",
        "        with open(message_file_path, 'rb') as file:\n",
        "            message = file.read()\n",
        "\n",
        "        mac_value = generate_mac(message, key, hash_algorithm)\n",
        "\n",
        "\n",
        "        write_mac_to_file(mac_value)\n",
        "        print(\"MAC value written to mac_value.txt\")\n",
        "\n",
        "\n",
        "if __name__ == \"__main__\":\n",
        "    main()\n"
      ]
    },
    {
      "cell_type": "markdown",
      "source": [
        "# Decryption Side (Reciever)\n"
      ],
      "metadata": {
        "id": "UtTJXXtqQrgF"
      }
    },
    {
      "cell_type": "code",
      "source": [
        "import base64\n",
        "from Crypto.Cipher import AES\n",
        "from Crypto.Util.Padding import pad, unpad\n",
        "\n",
        "key = '01096e39dcd90b44'\n",
        "\n",
        "def decrypt(enc):\n",
        "    cipher = AES.new(key.encode('utf-8'), AES.MODE_ECB)\n",
        "    decrypted_data = unpad(cipher.decrypt(enc), AES.block_size)\n",
        "    return decrypted_data\n",
        "\n",
        "def decrypt_file(encrypted_file_path):\n",
        "    with open(encrypted_file_path, 'rb') as encrypted_file:\n",
        "        encrypted_data = encrypted_file.read()\n",
        "\n",
        "    decrypted_data = decrypt(encrypted_data)\n",
        "    return decrypted_data\n",
        "\n",
        "encrypted_file_path = '/content/encrypted_file.bin'\n",
        "decrypted_data = decrypt_file(encrypted_file_path)\n",
        "\n",
        "# Write the decrypted data to a new file named \"secret.txt\"\n",
        "with open(\"secret.txt\", \"wb\") as secret_file:\n",
        "    secret_file.write(decrypted_data)\n",
        "\n",
        "print(\"Decrypted data has been written to secret.txt\")"
      ],
      "metadata": {
        "id": "TqKArYE0Qwvl"
      },
      "execution_count": null,
      "outputs": []
    },
    {
      "cell_type": "code",
      "source": [
        "import hmac\n",
        "import hashlib\n",
        "\n",
        "def generate_mac(message, key, hash_algorithm):\n",
        "    hash_obj = hashlib.new(hash_algorithm)\n",
        "    hash_obj.update(key.encode('utf-8'))\n",
        "    hmac_obj = hmac.new(hash_obj.digest(), message, hashlib.sha256)\n",
        "    mac_value = hmac_obj.hexdigest()\n",
        "    return mac_value\n",
        "\n",
        "def verify_mac(message, key, mac_value, hash_algorithm):\n",
        "    generated_mac = generate_mac(message, key, hash_algorithm)\n",
        "    return hmac.compare_digest(mac_value, generated_mac)\n",
        "\n",
        "def main():\n",
        "    message_file_path = \"/content/secret.txt\"\n",
        "    key = \"01096e39dcd90b44\"\n",
        "\n",
        "    with open(\"mac_value.txt\", \"r\") as mac_file:\n",
        "        mac_value = mac_file.read().strip()\n",
        "\n",
        "    print(\"Available hash algorithms:\")\n",
        "    print(\"1. SHA1\")\n",
        "    print(\"2. SHA256\")\n",
        "    hash_choice = input(\"Choose the hash algorithm (1 / 2): \")\n",
        "\n",
        "    if hash_choice == '1':\n",
        "        hash_algorithm = 'sha1'\n",
        "    elif hash_choice == '2':\n",
        "        hash_algorithm = 'sha256'\n",
        "    else:\n",
        "        raise ValueError(\"Invalid hash algorithm choice.\")\n",
        "\n",
        "    with open(message_file_path, 'rb') as file:\n",
        "        message = file.read()\n",
        "\n",
        "    verified = verify_mac(message, key, mac_value, hash_algorithm)\n",
        "    if verified:\n",
        "        print(\"MAC verification: Successful\")\n",
        "    else:\n",
        "        print(\"MAC verification: Failed\")\n",
        "\n",
        "if __name__ == \"__main__\":\n",
        "    main()"
      ],
      "metadata": {
        "id": "4ZoM7otqQ0bz"
      },
      "execution_count": null,
      "outputs": []
    }
  ],
  "metadata": {
    "colab": {
      "provenance": [],
      "include_colab_link": true
    },
    "kernelspec": {
      "display_name": "Python 3",
      "name": "python3"
    },
    "language_info": {
      "name": "python"
    }
  },
  "nbformat": 4,
  "nbformat_minor": 0
}